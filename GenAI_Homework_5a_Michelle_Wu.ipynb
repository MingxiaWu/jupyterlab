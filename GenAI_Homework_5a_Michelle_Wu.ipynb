{
  "nbformat": 4,
  "nbformat_minor": 0,
  "metadata": {
    "colab": {
      "provenance": [],
      "authorship_tag": "ABX9TyNEaf6TuR1+whPP5Dkhm6RP",
      "include_colab_link": true
    },
    "kernelspec": {
      "name": "python3",
      "display_name": "Python 3"
    },
    "language_info": {
      "name": "python"
    }
  },
  "cells": [
    {
      "cell_type": "markdown",
      "metadata": {
        "id": "view-in-github",
        "colab_type": "text"
      },
      "source": [
        "<a href=\"https://colab.research.google.com/github/MingxiaWu/jupyterlab/blob/main/GenAI_Homework_5a_Michelle_Wu.ipynb\" target=\"_parent\"><img src=\"https://colab.research.google.com/assets/colab-badge.svg\" alt=\"Open In Colab\"/></a>"
      ]
    },
    {
      "cell_type": "markdown",
      "source": [
        "California Science and Technology University \\\n",
        "GenAI: Introduction to LLM\n",
        "MB/CSE642, Spring 2024, \\\n",
        "Lecturer : M. Sridharan \\\n",
        "Student: Michelle Wu\\\n",
        "Homework 5a \\\n",
        "1/22/24"
      ],
      "metadata": {
        "id": "awW6oiS-OPS2"
      }
    },
    {
      "cell_type": "code",
      "source": [
        "from math import radians, sin, cos, sqrt, atan2\n",
        "import numpy as np\n",
        "\n",
        "def haversine(lat1, lon1, lat2, lon2, precision='float32'):\n",
        "    # Convert latitude and longitude from degrees to radians\n",
        "    lat1, lon1, lat2, lon2 = map(radians, [lat1, lon1, lat2, lon2])\n",
        "\n",
        "    # Haversine formula\n",
        "    dlat = lat2 - lat1\n",
        "    dlon = lon2 - lon1\n",
        "    a = sin(dlat / 2)**2 + cos(lat1) * cos(lat2) * sin(dlon / 2)**2\n",
        "    c = 2 * atan2(sqrt(a), sqrt(1 - a))\n",
        "\n",
        "    # Earth radius in kilometers\n",
        "    R = 6371.0\n",
        "\n",
        "    # Calculate distance\n",
        "    distance = R * c\n",
        "\n",
        "    # Convert to specified precision\n",
        "    if precision == 'float16':\n",
        "        distance = np.float16(distance)\n",
        "    elif precision == 'float32':\n",
        "        distance = np.float32(distance)\n",
        "    elif precision == 'int8':\n",
        "        distance = np.int8(distance)\n",
        "    else:\n",
        "        raise ValueError(\"Invalid precision specified. Use 'float16', 'float32', or 'int8'.\")\n",
        "\n",
        "    return distance\n",
        "\n",
        "# Example usage\n",
        "lat1, lon1 = 37.7749, -122.4194  # San Francisco, CA\n",
        "lat2, lon2 = 34.0522, -118.2437  # Los Angeles, CA\n",
        "\n",
        "# Full-precision (float32)\n",
        "result_float32 = haversine(lat1, lon1, lat2, lon2, precision='float32')\n",
        "\n",
        "# Half-precision (float16)\n",
        "result_float16 = haversine(lat1, lon1, lat2, lon2, precision='float16')\n",
        "\n",
        "# Quarter-precision (int8)\n",
        "result_int8 = haversine(lat1, lon1, lat2, lon2, precision='int8')\n",
        "\n",
        "print(f\"Full Precision (float32): {result_float32}\")\n",
        "print(f\"Half Precision (float16): {result_float16}\")\n",
        "print(f\"Quarter Precision (int8): {result_int8}\")\n"
      ],
      "metadata": {
        "colab": {
          "base_uri": "https://localhost:8080/"
        },
        "id": "F91euguyQ_O2",
        "outputId": "f9a07ad4-2ab6-47a6-a747-7756bca520de"
      },
      "execution_count": 13,
      "outputs": [
        {
          "output_type": "stream",
          "name": "stdout",
          "text": [
            "Full Precision (float32): 559.12060546875\n",
            "Half Precision (float16): 559.0\n",
            "Quarter Precision (int8): 47\n"
          ]
        }
      ]
    },
    {
      "cell_type": "markdown",
      "source": [
        " Python code for quarter-precision (int8) is not practical for measuring the large distances due to its limited range and lack of decimal representation. Converting and scaling values wouldn't accurately represent distances like this, leading to impractical and inaccurate results."
      ],
      "metadata": {
        "id": "cg-1h_BMdKkB"
      }
    }
  ]
}