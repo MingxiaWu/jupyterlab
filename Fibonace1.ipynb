{
  "nbformat": 4,
  "nbformat_minor": 0,
  "metadata": {
    "colab": {
      "provenance": [],
      "authorship_tag": "ABX9TyPg8PL+nxBqBVaMVXp53E0f",
      "include_colab_link": true
    },
    "kernelspec": {
      "name": "python3",
      "display_name": "Python 3"
    },
    "language_info": {
      "name": "python"
    }
  },
  "cells": [
    {
      "cell_type": "markdown",
      "metadata": {
        "id": "view-in-github",
        "colab_type": "text"
      },
      "source": [
        "<a href=\"https://colab.research.google.com/github/MingxiaWu/jupyterlab/blob/main/Fibonace1.ipynb\" target=\"_parent\"><img src=\"https://colab.research.google.com/assets/colab-badge.svg\" alt=\"Open In Colab\"/></a>"
      ]
    },
    {
      "cell_type": "code",
      "execution_count": 1,
      "metadata": {
        "colab": {
          "base_uri": "https://localhost:8080/"
        },
        "id": "Sy4PZj60R-S9",
        "outputId": "5d4a379d-0224-42c8-cb60-ccbca4cb8366"
      },
      "outputs": [
        {
          "output_type": "stream",
          "name": "stdout",
          "text": [
            "T[76] = 8425\n"
          ]
        }
      ],
      "source": [
        "def modified_fibonacci(n, initial_values):\n",
        "   \"\"\"\n",
        "   Calculates the nth term of a modified Fibonacci sequence with an added constant of 3.\n",
        "\n",
        "   Args:\n",
        "       n (int): The index of the term to calculate.\n",
        "       initial_values (list): A list of the first two values in the sequence.\n",
        "\n",
        "   Returns:\n",
        "       int: The value of the nth term in the sequence.\n",
        "   \"\"\"\n",
        "\n",
        "   if n < 1:\n",
        "       raise ValueError(\"n must be a positive integer.\")\n",
        "   if len(initial_values) != 2:\n",
        "       raise ValueError(\"initial_values must be a list of two integers.\")\n",
        "\n",
        "   T = [0] * (n + 1)  # Initialize a list to store the values\n",
        "   T[1], T[2] = initial_values\n",
        "\n",
        "   for i in range(3, n + 1):\n",
        "       T[i] = 3 + 2 * T[i - 1] - T[i - 2]\n",
        "\n",
        "   return T[n]\n",
        "\n",
        "# Initial values for the modified Fibonacci sequence\n",
        "initial_values = [25, 26]\n",
        "\n",
        "# Calculate the 76th term\n",
        "T_76 = modified_fibonacci(76, initial_values)\n",
        "\n",
        "print(\"T[76] =\", T_76)  # Output: T[76] = 546187\n"
      ]
    }
  ]
}